{
  "nbformat": 4,
  "nbformat_minor": 0,
  "metadata": {
    "colab": {
      "provenance": [],
      "authorship_tag": "ABX9TyM63fI+tlnQBqDfzPi61Nd4"
    },
    "kernelspec": {
      "name": "python3",
      "display_name": "Python 3"
    },
    "language_info": {
      "name": "python"
    }
  },
  "cells": [
    {
      "cell_type": "code",
      "execution_count": 1,
      "metadata": {
        "id": "HRDRWoUe4pEm",
        "colab": {
          "base_uri": "https://localhost:8080/"
        },
        "outputId": "10aec736-64ba-48f8-d5df-81ad6ec8b081"
      },
      "outputs": [
        {
          "output_type": "stream",
          "name": "stdout",
          "text": [
            "Looking in indexes: https://pypi.org/simple, https://us-python.pkg.dev/colab-wheels/public/simple/\n",
            "Collecting arcticdb\n",
            "  Downloading arcticdb-1.2.1-cp310-cp310-manylinux_2_17_x86_64.manylinux2014_x86_64.whl (12.4 MB)\n",
            "\u001b[2K     \u001b[90m━━━━━━━━━━━━━━━━━━━━━━━━━━━━━━━━━━━━━━━━\u001b[0m \u001b[32m12.4/12.4 MB\u001b[0m \u001b[31m88.8 MB/s\u001b[0m eta \u001b[36m0:00:00\u001b[0m\n",
            "\u001b[?25hRequirement already satisfied: numpy in /usr/local/lib/python3.10/dist-packages (from arcticdb) (1.22.4)\n",
            "Requirement already satisfied: pandas<2 in /usr/local/lib/python3.10/dist-packages (from arcticdb) (1.5.3)\n",
            "Requirement already satisfied: attrs in /usr/local/lib/python3.10/dist-packages (from arcticdb) (23.1.0)\n",
            "Collecting enum-compat (from arcticdb)\n",
            "  Downloading enum_compat-0.0.3-py3-none-any.whl (1.3 kB)\n",
            "Collecting grpcio-tools (from arcticdb)\n",
            "  Downloading grpcio_tools-1.54.2-cp310-cp310-manylinux_2_17_x86_64.manylinux2014_x86_64.whl (2.4 MB)\n",
            "\u001b[2K     \u001b[90m━━━━━━━━━━━━━━━━━━━━━━━━━━━━━━━━━━━━━━━━\u001b[0m \u001b[32m2.4/2.4 MB\u001b[0m \u001b[31m80.1 MB/s\u001b[0m eta \u001b[36m0:00:00\u001b[0m\n",
            "\u001b[?25hRequirement already satisfied: protobuf>=3.5.0.post1 in /usr/local/lib/python3.10/dist-packages (from arcticdb) (3.20.3)\n",
            "Collecting xxhash (from arcticdb)\n",
            "  Downloading xxhash-3.2.0-cp310-cp310-manylinux_2_17_x86_64.manylinux2014_x86_64.whl (212 kB)\n",
            "\u001b[2K     \u001b[90m━━━━━━━━━━━━━━━━━━━━━━━━━━━━━━━━━━━━━━\u001b[0m \u001b[32m212.5/212.5 kB\u001b[0m \u001b[31m17.7 MB/s\u001b[0m eta \u001b[36m0:00:00\u001b[0m\n",
            "\u001b[?25hRequirement already satisfied: six in /usr/local/lib/python3.10/dist-packages (from arcticdb) (1.16.0)\n",
            "Requirement already satisfied: msgpack in /usr/local/lib/python3.10/dist-packages (from arcticdb) (1.0.5)\n",
            "Requirement already satisfied: psutil in /usr/local/lib/python3.10/dist-packages (from arcticdb) (5.9.5)\n",
            "Requirement already satisfied: pyyaml in /usr/local/lib/python3.10/dist-packages (from arcticdb) (6.0)\n",
            "Requirement already satisfied: decorator in /usr/local/lib/python3.10/dist-packages (from arcticdb) (4.4.2)\n",
            "Requirement already satisfied: prometheus-client in /usr/local/lib/python3.10/dist-packages (from arcticdb) (0.16.0)\n",
            "Requirement already satisfied: python-dateutil>=2.8.1 in /usr/local/lib/python3.10/dist-packages (from pandas<2->arcticdb) (2.8.2)\n",
            "Requirement already satisfied: pytz>=2020.1 in /usr/local/lib/python3.10/dist-packages (from pandas<2->arcticdb) (2022.7.1)\n",
            "Collecting protobuf>=3.5.0.post1 (from arcticdb)\n",
            "  Downloading protobuf-4.23.2-cp37-abi3-manylinux2014_x86_64.whl (304 kB)\n",
            "\u001b[2K     \u001b[90m━━━━━━━━━━━━━━━━━━━━━━━━━━━━━━━━━━━━━━\u001b[0m \u001b[32m304.5/304.5 kB\u001b[0m \u001b[31m21.0 MB/s\u001b[0m eta \u001b[36m0:00:00\u001b[0m\n",
            "\u001b[?25hCollecting grpcio>=1.54.2 (from grpcio-tools->arcticdb)\n",
            "  Downloading grpcio-1.54.2-cp310-cp310-manylinux_2_17_x86_64.manylinux2014_x86_64.whl (5.1 MB)\n",
            "\u001b[2K     \u001b[90m━━━━━━━━━━━━━━━━━━━━━━━━━━━━━━━━━━━━━━━━\u001b[0m \u001b[32m5.1/5.1 MB\u001b[0m \u001b[31m37.4 MB/s\u001b[0m eta \u001b[36m0:00:00\u001b[0m\n",
            "\u001b[?25hRequirement already satisfied: setuptools in /usr/local/lib/python3.10/dist-packages (from grpcio-tools->arcticdb) (67.7.2)\n",
            "Installing collected packages: enum-compat, xxhash, protobuf, grpcio, grpcio-tools, arcticdb\n",
            "  Attempting uninstall: protobuf\n",
            "    Found existing installation: protobuf 3.20.3\n",
            "    Uninstalling protobuf-3.20.3:\n",
            "      Successfully uninstalled protobuf-3.20.3\n",
            "  Attempting uninstall: grpcio\n",
            "    Found existing installation: grpcio 1.54.0\n",
            "    Uninstalling grpcio-1.54.0:\n",
            "      Successfully uninstalled grpcio-1.54.0\n",
            "Successfully installed arcticdb-1.2.1 enum-compat-0.0.3 grpcio-1.54.2 grpcio-tools-1.54.2 protobuf-4.23.2 xxhash-3.2.0\n",
            "Looking in indexes: https://pypi.org/simple, https://us-python.pkg.dev/colab-wheels/public/simple/\n",
            "Requirement already satisfied: pandas in /usr/local/lib/python3.10/dist-packages (1.5.3)\n",
            "Requirement already satisfied: python-dateutil>=2.8.1 in /usr/local/lib/python3.10/dist-packages (from pandas) (2.8.2)\n",
            "Requirement already satisfied: pytz>=2020.1 in /usr/local/lib/python3.10/dist-packages (from pandas) (2022.7.1)\n",
            "Requirement already satisfied: numpy>=1.21.0 in /usr/local/lib/python3.10/dist-packages (from pandas) (1.22.4)\n",
            "Requirement already satisfied: six>=1.5 in /usr/local/lib/python3.10/dist-packages (from python-dateutil>=2.8.1->pandas) (1.16.0)\n",
            "Looking in indexes: https://pypi.org/simple, https://us-python.pkg.dev/colab-wheels/public/simple/\n",
            "Collecting pyexiftool\n",
            "  Downloading PyExifTool-0.5.5-py3-none-any.whl (50 kB)\n",
            "\u001b[2K     \u001b[90m━━━━━━━━━━━━━━━━━━━━━━━━━━━━━━━━━━━━━━━━\u001b[0m \u001b[32m50.6/50.6 kB\u001b[0m \u001b[31m2.6 MB/s\u001b[0m eta \u001b[36m0:00:00\u001b[0m\n",
            "\u001b[?25hInstalling collected packages: pyexiftool\n",
            "Successfully installed pyexiftool-0.5.5\n"
          ]
        }
      ],
      "source": [
        "!pip install arcticdb\n",
        "!pip install pandas\n",
        "!pip install pyexiftool\n",
        "# !apt install libimage-exiftool-perl\n",
        "from arcticdb import Arctic, QueryBuilder\n",
        "import exiftool\n",
        "import sys\n",
        "import os\n",
        "import pandas as pd \n",
        "import numpy as np\n",
        "import requests\n",
        "import typing\n",
        "# import subprocess\n",
        "# from arcticdb_ext.exceptions import InternalExecption"
      ]
    },
    {
      "cell_type": "code",
      "source": [
        "def _handle_errors(msg):\n",
        "  print(Exception(msg))"
      ],
      "metadata": {
        "id": "eQL9A84H5Gt4"
      },
      "execution_count": 2,
      "outputs": []
    },
    {
      "cell_type": "code",
      "source": [
        "ac = Arctic(f\"lmdb:///{os.getcwd()}/new_folder\")\n",
        "name_db = \"testing.arctic\"\n",
        "try:\n",
        "  ac.get_library(name_db)\n",
        "  print(\"Found lib\")\n",
        "except:\n",
        "  print(\"Not found\")\n",
        "try:\n",
        "  ac.create_library(name_db)\n",
        "  print(\"Created lib\")\n",
        "except:\n",
        "  print(\"Lib exists\")\n",
        "\n",
        "\n",
        "ac.list_libraries()"
      ],
      "metadata": {
        "id": "v5K-nuls53td",
        "colab": {
          "base_uri": "https://localhost:8080/"
        },
        "outputId": "ce0a5f50-e9a0-4073-eea3-27567d5cd945"
      },
      "execution_count": 3,
      "outputs": [
        {
          "output_type": "stream",
          "name": "stdout",
          "text": [
            "Not found\n",
            "Created lib\n"
          ]
        },
        {
          "output_type": "execute_result",
          "data": {
            "text/plain": [
              "['testing.arctic']"
            ]
          },
          "metadata": {},
          "execution_count": 3
        }
      ]
    },
    {
      "cell_type": "markdown",
      "source": [
        "# Populating dataframe with real and public data\n",
        "\n"
      ],
      "metadata": {
        "id": "_FF7s-yXtDms"
      }
    },
    {
      "cell_type": "code",
      "source": [
        "lib = ac[name_db]\n",
        "try:\n",
        "  lib.read(\"my_data\")\n",
        "  print(\"Data already existing, skipping\")\n",
        "except:\n",
        "  try:\n",
        "    df = pd.read_csv(\"https://dados.cvm.gov.br/dados/FI/DOC/EVENTUAL/DADOS/eventual_fi_2023.csv\",sep=\";\",encoding = \"unicode_escape\")\n",
        "    print(\"Created the dataframe with cvm data\")\n",
        "  except Exception as er:\n",
        "    print(er)\n",
        "    print(\"An error occurred when trying to generate the dataframe with the cvm data, modify or let a standard dataframe be generated as shown in the docs\")\n",
        "    NUM_COLUMNS=10\n",
        "    NUM_ROWS=100_000\n",
        "    df = pd.DataFrame(np.random.randint(0,100,size=(NUM_ROWS, NUM_COLUMNS)), columns=[f\"COL_{i}\" for i in range(NUM_COLUMNS)], index=pd.date_range('2000', periods=NUM_ROWS, freq='h'))\n",
        "  lib.write(\"my_data\", df)\n",
        "# print(lib)\n",
        "# data = lib.read(\"my_data\",as_of=0)\n",
        "# print(lib.tail(\"my_data\",  5, as_of=0).data)\n",
        "\n",
        "# data = lib.read(\"my_data\")\n",
        "# print(data)\n",
        "# print(data.data)"
      ],
      "metadata": {
        "id": "p9LcCk8860pD",
        "colab": {
          "base_uri": "https://localhost:8080/"
        },
        "outputId": "b993eb47-9ba3-4bbd-fb8f-5d52fd29c622"
      },
      "execution_count": 4,
      "outputs": [
        {
          "output_type": "stream",
          "name": "stdout",
          "text": [
            "Created the dataframe with cvm data\n"
          ]
        }
      ]
    },
    {
      "cell_type": "markdown",
      "source": [
        "# Create query builder using arcticdb\n",
        "\n",
        "\n",
        "\n"
      ],
      "metadata": {
        "id": "nw4o8f9Qs0Rg"
      }
    },
    {
      "cell_type": "code",
      "source": [
        "def _download_files(link: str = \"\") -> typing.Union[bytes,None]:\n",
        "    try:\n",
        "        response = requests.get(link)\n",
        "        response.raise_for_status()\n",
        "        return response\n",
        "    except requests.exceptions.RequestException as e:\n",
        "        print(f\"Ocorreu um erro ao baixar o arquivo {link}: {e}\")\n",
        "        return None"
      ],
      "metadata": {
        "id": "h7vkN670GbfY"
      },
      "execution_count": 5,
      "outputs": []
    },
    {
      "cell_type": "code",
      "source": [
        "query = QueryBuilder()\n",
        "query = query[query[\"TP_DOC\"] == \"REGUL FDO\"]\n",
        " \n",
        "data = lib.read(\"my_data\", query_builder=query).data[[\"CNPJ_FUNDO\", \"DT_RECEB\", \"TP_FUNDO\", \"LINK_ARQ\"]]\n",
        "\n",
        "for _index, _row in data.iterrows():\n",
        "  print(_row[\"LINK_ARQ\"])\n",
        "  arq = _download_files(_row[\"LINK_ARQ\"])\n",
        "  #TODO Adjusting this code\n",
        "  # with exiftool.ExifTool() as et:\n",
        "  #   # Analisar as informações do arquivo diretamente do conteúdo\n",
        "  #   metadata = et.get_metadata(arq.content)\n",
        "  #   print(metadata)\n",
        "  break"
      ],
      "metadata": {
        "id": "NzXkM9Slub7c",
        "colab": {
          "base_uri": "https://localhost:8080/"
        },
        "outputId": "733ac26f-65d8-4ccb-ee15-98a60de1b693"
      },
      "execution_count": 6,
      "outputs": [
        {
          "output_type": "stream",
          "name": "stdout",
          "text": [
            "https://web.cvm.gov.br/app/fundosweb/regulamentoFundo/por/arquivo/DOC_REGUL_83365_82299.pdf\n"
          ]
        }
      ]
    }
  ]
}