{
  "cells": [
    {
      "cell_type": "code",
      "execution_count": null,
      "metadata": {
        "id": "HRDRWoUe4pEm"
      },
      "outputs": [],
      "source": [
        "!pip install arcticdb\n",
        "!pip install pandas\n",
        "from arcticdb import Arctic\n",
        "import sys\n",
        "import os\n",
        "import pandas as pd \n",
        "import numpy as np\n",
        "# from arcticdb_ext.exceptions import InternalExecption"
      ]
    },
    {
      "cell_type": "code",
      "execution_count": 6,
      "metadata": {
        "colab": {
          "base_uri": "https://localhost:8080/"
        },
        "id": "IUdsKjMu6UR_",
        "outputId": "dbbae7ff-f288-4f26-8419-1dfb0b05c609"
      },
      "outputs": [
        {
          "name": "stdout",
          "output_type": "stream",
          "text": [
            "/content\n"
          ]
        }
      ],
      "source": [
        "print(os.getcwd())"
      ]
    },
    {
      "cell_type": "code",
      "execution_count": null,
      "metadata": {
        "id": "eQL9A84H5Gt4"
      },
      "outputs": [],
      "source": [
        "def _handle_errors(msg):\n",
        "  print(Exception(msg))"
      ]
    },
    {
      "cell_type": "code",
      "execution_count": 12,
      "metadata": {
        "colab": {
          "base_uri": "https://localhost:8080/"
        },
        "id": "v5K-nuls53td",
        "outputId": "01f681f7-f402-4c3f-812e-384de913d3d2"
      },
      "outputs": [
        {
          "name": "stdout",
          "output_type": "stream",
          "text": [
            "Found lib\n",
            "Lib exists\n"
          ]
        }
      ],
      "source": [
        "ac = Arctic(f\"lmdb:///{os.getcwd()}/new_folder\")\n",
        "name_db = \"testing.arctic\"\n",
        "try:\n",
        "  ac.get_library(name_db)\n",
        "  print(\"Found lib\")\n",
        "except:\n",
        "  print(\"Not found\")\n",
        "try:\n",
        "  ac.create_library(name_db)\n",
        "  print(\"Created lib\")\n",
        "except:\n",
        "  print(\"Lib exists\")\n"
      ]
    },
    {
      "cell_type": "code",
      "execution_count": 16,
      "metadata": {
        "colab": {
          "base_uri": "https://localhost:8080/"
        },
        "id": "p9LcCk8860pD",
        "outputId": "c6a27be5-b4c6-454d-b999-b0bf695bbe99"
      },
      "outputs": [
        {
          "name": "stdout",
          "output_type": "stream",
          "text": [
            "Library(Arctic(config=LMDB(path=//content/new_folder)), path=testing.arctic, storage=lmdb_storage)\n"
          ]
        }
      ],
      "source": [
        "NUM_COLUMNS=100\n",
        "NUM_ROWS=100_000\n",
        "\n",
        "df = pd.DataFrame(np.random.randint(0,100,size=(NUM_ROWS, NUM_COLUMNS)), columns=[f\"COL_{i}\" for i in range(NUM_COLUMNS)], index=pd.date_range('2000', periods=NUM_ROWS, freq='h'))\n",
        "lib = ac[name_db]\n",
        "lib.write(\"my_data\", df)\n",
        "print(lib)\n",
        "# data = lib.read(\"my_data\",as_of=0)"
      ]
    },
    {
      "cell_type": "code",
      "execution_count": 19,
      "metadata": {
        "colab": {
          "base_uri": "https://localhost:8080/"
        },
        "id": "-G6X8plK7Xur",
        "outputId": "a3d1bef9-ac4b-48cd-ef74-5ce752150c79"
      },
      "outputs": [
        {
          "name": "stdout",
          "output_type": "stream",
          "text": [
            "VersionedItem(symbol='my_data', library='testing.arctic', data=<class 'pandas.core.frame.DataFrame'>, version=1, metadata=None, host='LMDB(path=//content/new_folder)')\n",
            "                     COL_0  COL_1  COL_2  COL_3  COL_4  COL_5  COL_6  COL_7  \\\n",
            "2000-01-01 00:00:00     47      9     95     49      1     53     41     89   \n",
            "2000-01-01 01:00:00     94     59     44     96     74     10     26     29   \n",
            "2000-01-01 02:00:00     35     16     23     79     17     21     54     70   \n",
            "2000-01-01 03:00:00     50     84     87     15     46     97     62     97   \n",
            "2000-01-01 04:00:00     32     19     17     97     25     34     88     98   \n",
            "...                    ...    ...    ...    ...    ...    ...    ...    ...   \n",
            "2011-05-29 11:00:00      7     96     67     94      8     44     37     83   \n",
            "2011-05-29 12:00:00     52     91     43     60     35     48     78     60   \n",
            "2011-05-29 13:00:00     99     88     10     32     93     82     65     49   \n",
            "2011-05-29 14:00:00     73     49     60      9     39     55     72     80   \n",
            "2011-05-29 15:00:00     41     26     24     64     71     29     38      2   \n",
            "\n",
            "                     COL_8  COL_9  ...  COL_90  COL_91  COL_92  COL_93  \\\n",
            "2000-01-01 00:00:00     56     28  ...      61      64      33       4   \n",
            "2000-01-01 01:00:00      4     69  ...      17      72      73      63   \n",
            "2000-01-01 02:00:00     54      2  ...      27      73      62       6   \n",
            "2000-01-01 03:00:00     81     39  ...      36      70       6      35   \n",
            "2000-01-01 04:00:00     36     60  ...      99      73      72       7   \n",
            "...                    ...    ...  ...     ...     ...     ...     ...   \n",
            "2011-05-29 11:00:00     26     46  ...      30      16      33      33   \n",
            "2011-05-29 12:00:00     12     58  ...      77      23      90      66   \n",
            "2011-05-29 13:00:00     83     86  ...      99      59       6      29   \n",
            "2011-05-29 14:00:00     22      0  ...      61      32      39       0   \n",
            "2011-05-29 15:00:00     11     42  ...      23      14      54      87   \n",
            "\n",
            "                     COL_94  COL_95  COL_96  COL_97  COL_98  COL_99  \n",
            "2000-01-01 00:00:00       6      64       0      52      76      89  \n",
            "2000-01-01 01:00:00      67      94      78      95      13      90  \n",
            "2000-01-01 02:00:00      57      78      97      43      68      31  \n",
            "2000-01-01 03:00:00      86       2      88      86      69       4  \n",
            "2000-01-01 04:00:00      39      60      82      59      16      34  \n",
            "...                     ...     ...     ...     ...     ...     ...  \n",
            "2011-05-29 11:00:00      61      25      30      67      93      52  \n",
            "2011-05-29 12:00:00      41      31      30      94      43      39  \n",
            "2011-05-29 13:00:00      37      46      25      32      69      27  \n",
            "2011-05-29 14:00:00       9      70      21      92      55      57  \n",
            "2011-05-29 15:00:00      62       9      72       3      23      68  \n",
            "\n",
            "[100000 rows x 100 columns]\n"
          ]
        }
      ],
      "source": [
        "data = lib.read(\"my_data\")\n",
        "print(data)\n",
        "print(data.data)"
      ]
    }
  ],
  "metadata": {
    "colab": {
      "provenance": []
    },
    "kernelspec": {
      "display_name": "Python 3",
      "name": "python3"
    },
    "language_info": {
      "name": "python"
    }
  },
  "nbformat": 4,
  "nbformat_minor": 0
}
